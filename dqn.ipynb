{
 "cells": [
  {
   "cell_type": "markdown",
   "metadata": {},
   "source": [
    "Imports"
   ]
  },
  {
   "cell_type": "code",
   "execution_count": null,
   "metadata": {},
   "outputs": [],
   "source": [
    "import torch\n",
    "import torch.nn as nn\n",
    "import torch.nn.functional as F\n",
    "import torch.optim as optim\n",
    "\n",
    "import random\n",
    "from collections import namedtuple, deque\n",
    "import math\n",
    "import random\n",
    "\n",
    "import matplotlib\n",
    "import matplotlib.pyplot as plt\n",
    "\n",
    "import Simulator\n",
    "import Simulator.simulator"
   ]
  },
  {
   "cell_type": "code",
   "execution_count": 18,
   "metadata": {},
   "outputs": [
    {
     "name": "stdout",
     "output_type": "stream",
     "text": [
      "cpu\n"
     ]
    }
   ],
   "source": [
    "device = torch.device(\"cuda\" if torch.cuda.is_available() else\"cpu\")\n",
    "print(device)\n",
    "\n",
    "random.seed(6) #For Consistency"
   ]
  },
  {
   "cell_type": "markdown",
   "metadata": {},
   "source": [
    "Q-Network & Replay Memory"
   ]
  },
  {
   "cell_type": "code",
   "execution_count": 28,
   "metadata": {},
   "outputs": [],
   "source": [
    "class DQN(nn.Module):\n",
    "    def __init__(self,state_len,action_len):\n",
    "        super(DQN,self).__init__()\n",
    "        self.layer1 = nn.Linear(state_len, 128)\n",
    "        self.layer2 = nn.Linear(128, 128)\n",
    "        self.layer3 = nn.Linear(128, action_len)\n",
    "\n",
    "    def forward(self,x):\n",
    "        x = F.relu(self.layer1(x))\n",
    "        x = F.relu(self.layer2(x))\n",
    "        x = F.relu(self.layer3(x))\n",
    "        return x"
   ]
  },
  {
   "cell_type": "code",
   "execution_count": 11,
   "metadata": {},
   "outputs": [],
   "source": [
    "#x = Transition(1,2,3,4)\n",
    "#print(x.state) -> outputs 1\n",
    "#print(x.reward) -> outputs 4\n",
    "Transition = namedtuple('Transition',('state', 'action', 'next_state', 'reward'))"
   ]
  },
  {
   "cell_type": "code",
   "execution_count": 13,
   "metadata": {},
   "outputs": [],
   "source": [
    "class ReplayMemory(object):\n",
    "    def __init__(self,capacity):\n",
    "        self.memory = deque([],maxlen=capacity)\n",
    "\n",
    "    def push(self,*args): #Converts State,Action,Next_State,Reward into transition tuple\n",
    "        self.memory.push(Transition(*args))  \n",
    "\n",
    "    def __sample__(self,batch_size):\n",
    "        return random.sample(self.memory,batch_size)\n",
    "\n",
    "    def __len__(self): #len(Object of Replay Memory) -> internally calls __len__\n",
    "        return len(self.memory)"
   ]
  },
  {
   "cell_type": "markdown",
   "metadata": {},
   "source": [
    "Epsilon Greedy Policy Algorithm"
   ]
  },
  {
   "cell_type": "code",
   "execution_count": 19,
   "metadata": {},
   "outputs": [],
   "source": [
    "def choose_action(policy_net,state,steps):\n",
    "    global EPS_START ,EPS_END , EPS_DECAY\n",
    "    eps = EPS_START + (EPS_END - EPS_START)*math.exp(-1*(steps/EPS_DECAY))\n",
    "\n",
    "    if random.random() < eps : #Exploration\n",
    "        return random.randrange(2)  #Two Actions [\"JUMP or FALL\"]\n",
    "    else : #Exploitation \n",
    "        with torch.no_grad():\n",
    "            return torch.argmax(policy_net(state)).item() #Greedy Action"
   ]
  },
  {
   "cell_type": "markdown",
   "metadata": {},
   "source": [
    "Training Step"
   ]
  },
  {
   "cell_type": "code",
   "execution_count": 21,
   "metadata": {},
   "outputs": [],
   "source": [
    "def optimize_model(policy_net,target_net,memory,optimizer):\n",
    "    global BATCH_SIZE,GAMMA,device\n",
    "\n",
    "    if len(memory) < BATCH_SIZE : \n",
    "        return \n",
    "\n",
    "    transitions = memory.sample(BATCH_SIZE) #List of Transitions i.e (State Action Next_state Reward)\n",
    "    batch = Transition(*zip(*transitions)) #Transition of Lists i.e Transition[State = (s1,s2,..) Action = (a1,a2,..) ... Reward = (r1,r2,..)]\n",
    "    \n",
    "    state_batch  = torch.cat(batch.state)  #batch_size * no. of states  [from tuple of tensors to tensor]\n",
    "    action_batch = torch.cat(batch.action) #batch_size * no. of actions [from tuple of tensors to tensor]\n",
    "    reward_batch = torch.cat(batch.reward) #batch_size * no. of rewards [form tuple of tensors to tensor]\n",
    "\n",
    "    # [[Q(s1,action1),Q(s1,action2),...],[Q(s2,action1),Q(s2,action2),...],...] from neural network \n",
    "    #s1,s2,s3 -> state from memory buffer\n",
    "    #action1,action2,... -> action space\n",
    "    #a1,a2,...... -> action done when on s1,s2,...\n",
    "    #final result would be what is the quality of actions a1,a2,.. on states s1,s2,.. respectively\n",
    "    #i.e [Q(s1,action == a1),Q(s2,action == a2),Q(s3,action == a3),...]\n",
    "    state_action_values = policy_net(state_batch).gather(1,action_batch)\n",
    "\n",
    "    #Finding Expected State Action Values From Target Network\n",
    "    #next_state can be None sometimes, because next_state could be end of episodes\n",
    "    #So we ignore them\n",
    "    non_final_mask   = torch.tensor(tuple(map(lambda s : s is not None,batch.next_state)),device=device,dtype=torch.bool) \n",
    "    non_final_states = torch.cat([s for s in batch.next_state if s is not None])\n",
    "    \n",
    "    #Predicted Final Reward\n",
    "    #End of Episode = contributes 0\n",
    "    #But others have some value -> we get from target_net\n",
    "    #We know we get [[Q(s1,action1),Q(s1,action2),...],[Q(s2,action1),Q(s2,action2),...],...] out of neural network\n",
    "    #.max(1) -> ([Q(s1,action_i) max value, it's coordinates],[Q(s2,action_i) max value, it's coordinates],.....)\n",
    "    #.value  -> [Q(s1,action_i) max value, Q(s2,action_i) max value,...]\n",
    "    #essentially just fetching max value of the state\n",
    "    next_state_values = torch.zeros(BATCH_SIZE,device=device) \n",
    "    with torch.no_grad():\n",
    "        next_state_values[non_final_mask] = target_net(non_final_states).max(1).values\n",
    "    \n",
    "    #TD Estimate\n",
    "    expected_state_action_values = (GAMMA*next_state_values) + reward_batch \n",
    "    \n",
    "    #Standard Backpropagation\n",
    "    criterion = nn.SmoothL1Loss()\n",
    "    loss = criterion(state_action_values, expected_state_action_values.unsqueeze(1))\n",
    "    optimizer.zero_grad()\n",
    "    loss.backward()\n",
    "    optimizer.step()"
   ]
  },
  {
   "cell_type": "markdown",
   "metadata": {},
   "source": [
    "Hyper Parameters"
   ]
  },
  {
   "cell_type": "code",
   "execution_count": 23,
   "metadata": {},
   "outputs": [],
   "source": [
    "EPS_START = 0.99 #Starting : Give Priority to Exploration\n",
    "EPS_END   = 0.01 #Ending   : Give Priority to Exploitation\n",
    "EPS_DECAY = 1000 #How Fast You Want to End Exploration\n",
    "\n",
    "BATCH_SIZE = 128 #SHOULD BE OBVIOUS XD\n",
    "GAMMA = 0.99 #Higher Gamma : Long Term Reward Maximization\n",
    "NUM_EPS = 50 #Each Episode[Level] We Make the Game Tougher\n",
    "TAU = 0.005  #Soft Update Factor For Updating targert_net towards policy_net\n",
    "LR = 1e-3    #Learning Rate for Optimizer"
   ]
  },
  {
   "cell_type": "markdown",
   "metadata": {},
   "source": [
    "Training"
   ]
  },
  {
   "cell_type": "code",
   "execution_count": 24,
   "metadata": {},
   "outputs": [],
   "source": [
    "state_len  = 5 #Pipe Coords,Player Coords,Space Between Pipes, Player Fall Speed, Player Jump Speed\n",
    "action_len = 2 #JUMP or FALL"
   ]
  },
  {
   "cell_type": "code",
   "execution_count": 29,
   "metadata": {},
   "outputs": [],
   "source": [
    "policy_net = DQN(state_len, action_len).to(device)\n",
    "target_net = DQN(state_len, action_len).to(device)\n",
    "target_net.load_state_dict(policy_net.state_dict()) #Target Net is a Copy of Policy Net (Just few updates behind)\n",
    "\n",
    "optimizer = optim.AdamW(policy_net.parameters(), lr=LR, amsgrad=True)\n",
    "memory = ReplayMemory(10000)"
   ]
  },
  {
   "cell_type": "code",
   "execution_count": null,
   "metadata": {},
   "outputs": [],
   "source": [
    "for _ in range(NUM_EPS):\n",
    "    pass"
   ]
  }
 ],
 "metadata": {
  "kernelspec": {
   "display_name": "Python 3",
   "language": "python",
   "name": "python3"
  },
  "language_info": {
   "codemirror_mode": {
    "name": "ipython",
    "version": 3
   },
   "file_extension": ".py",
   "mimetype": "text/x-python",
   "name": "python",
   "nbconvert_exporter": "python",
   "pygments_lexer": "ipython3",
   "version": "3.11.9"
  }
 },
 "nbformat": 4,
 "nbformat_minor": 2
}
